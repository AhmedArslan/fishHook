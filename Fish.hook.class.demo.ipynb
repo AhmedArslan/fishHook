{
 "cells": [
  {
   "cell_type": "code",
   "execution_count": null,
   "metadata": {
    "collapsed": false,
    "scrolled": true
   },
   "outputs": [],
   "source": [
    "## Load up Fish.hook\n",
    "library(fishhook)\n",
    "library(skitools)"
   ]
  },
  {
   "cell_type": "code",
   "execution_count": null,
   "metadata": {
    "collapsed": false,
    "scrolled": true
   },
   "outputs": [],
   "source": [
    "## Set this to the path for the dir \"data\" that contains the demo data\n",
    "setwd(\"~/git/fish.hook/data\")\n",
    "# Sample Events\n",
    "events = readRDS(\"events.rds\")\n",
    "# Sample Targets\n",
    "targets = readRDS(\"targets.rds\")\n",
    "# Sample Covariate\n",
    "replication_timing = readRDS(\"covariate.rds\")\n",
    "# Sample Eligible Subset\n",
    "eligible = readRDS('eligible.rds')"
   ]
  },
  {
   "cell_type": "code",
   "execution_count": null,
   "metadata": {
    "collapsed": false,
    "scrolled": true
   },
   "outputs": [],
   "source": [
    "## Check the loaded data to make sure it exists\n",
    "## events contains the 1,988,162 mutation calls of 8475 individual cancers.\n",
    "events"
   ]
  },
  {
   "cell_type": "code",
   "execution_count": null,
   "metadata": {
    "collapsed": false,
    "scrolled": true
   },
   "outputs": [],
   "source": [
    "## Targets contains 19688 annotated human genes\n",
    "## With meta data columns, gene_name, links, summary\n",
    "## gene_name is the name of the gene\n",
    "## links is a link to the gene_cards page for the gene\n",
    "## This will be used later when creating an interactive plot\n",
    "## summary contains a breif gene_cards summary of the gene\n",
    "targets"
   ]
  },
  {
   "cell_type": "code",
   "execution_count": null,
   "metadata": {
    "collapsed": false,
    "scrolled": true
   },
   "outputs": [],
   "source": [
    "## replcation_timing is a GRanges object that we will use as a Covariate\n",
    "## replication_timing contains 2,385,966 rows\n",
    "## The meta data columns are : \"score\"\n",
    "## score is a numeric Covariate.\n",
    "replication_timing"
   ]
  },
  {
   "cell_type": "code",
   "execution_count": null,
   "metadata": {
    "collapsed": false,
    "scrolled": true
   },
   "outputs": [],
   "source": [
    "## eligible contains the regions of the genome that we will whitelist for fish.hook\n",
    "## In our case, the events data comes from exon sequencing\n",
    "## exon sequencing does not afford equal coverage throughout so we\n",
    "## will want to exclude all regions of poor coverage from the analysis\n",
    "## we will do this by whitelisting only the regions of the genome that have a score of 0.80 or greater\n",
    "## eligible is a GRanges object with 2,329,621 rows and one meta data column \"score\"\n",
    "## Eligible was previously subset to only include regions with a score > 0.80\n",
    "eligible"
   ]
  },
  {
   "cell_type": "code",
   "execution_count": null,
   "metadata": {
    "collapsed": false,
    "scrolled": true
   },
   "outputs": [],
   "source": [
    "## First lets create a covariate from replication timing:\n",
    "\n",
    "## name can be any string, in our case we will use rept \n",
    "## Type must be numeric, sequence or interval, in our case the \"score\" column will be considered a numeric\n",
    "## For more information on convariate types check the mskilab/Fishhook.R repo.\n",
    "## For now, try and keep things to GRanges as these seem to be the most stable\n",
    "rept = Cov$new(Covariate = replication_timing, type = \"numeric\",name = \"rept\")\n",
    "\n",
    "## As an example we can create a vector of covariates to pass to fish.hook\n",
    "Covariates = c(rept,rept,rept,rept,rept)\n",
    "\n",
    "## Note that the underlying data structure of Covariates is a list of Covariates\n",
    "print(\"Covariate List with rept repeated 5 times:\")\n",
    "Covariates "
   ]
  },
  {
   "cell_type": "code",
   "execution_count": null,
   "metadata": {
    "collapsed": false,
    "scrolled": true
   },
   "outputs": [],
   "source": [
    "## This vector is subsetable\n",
    "Covariates = Covariates[2:4]\n",
    "\n",
    "print(\"Subsetted Covariates\")\n",
    "Covariates"
   ]
  },
  {
   "cell_type": "code",
   "execution_count": null,
   "metadata": {
    "collapsed": false,
    "scrolled": true
   },
   "outputs": [],
   "source": [
    "print(\"Single Covariate\")\n",
    "Covariates = Covariates[1]\n",
    "\n",
    "Covariates"
   ]
  },
  {
   "cell_type": "code",
   "execution_count": null,
   "metadata": {
    "collapsed": false,
    "scrolled": true
   },
   "outputs": [],
   "source": [
    "## Now lets create a \"FishHook\" object that will hold and manage our data\n",
    "## Make sure to keep targets, events and eligible as GRanges\n",
    "## The only required inputs are targets and events\n",
    "## can modify elements of FishHook object using replace functions.\n",
    "fish = FishHook$new(targets = targets, events = events, eligible = eligible, covariates = Covariates)\n",
    "\n",
    "##Lets take a look at our FishHook object:\n",
    "fish\n"
   ]
  },
  {
   "cell_type": "code",
   "execution_count": null,
   "metadata": {
    "collapsed": false,
    "scrolled": true
   },
   "outputs": [],
   "source": [
    "## annotate targets with the events data only in the eligible regions\n",
    "## Note that if you are testing and trying to get this to run,\n",
    "## Covariates add about 2 min to the run time (over a base runtime of ~ 20sec) so get rid of them if debugging\n",
    "anno = fish$annotateTargets()\n"
   ]
  },
  {
   "cell_type": "code",
   "execution_count": null,
   "metadata": {
    "collapsed": false,
    "scrolled": true
   },
   "outputs": [],
   "source": [
    "## Lets take a look at our Annotate Object\n",
    "anno"
   ]
  },
  {
   "cell_type": "code",
   "execution_count": null,
   "metadata": {
    "collapsed": false,
    "scrolled": false
   },
   "outputs": [],
   "source": [
    "## Score Targets, score the annotated data set\n",
    "## Now we will score the annotated data set to \n",
    "## see which of our targets (in this case genes)\n",
    "## Are significantly mutated\n",
    "## This portion is quite quick\n",
    "score = anno$scoreTargets()\n",
    "\n",
    "## Lets take a look at our scored targets:\n",
    "\n",
    "score\n",
    "\n",
    "## We can look at the data store in score by using\n",
    "score$getAll()\n",
    "##query.id is a column used during fish.hook\n",
    "##coverage is the size of the eligible region of the gene\n",
    "##count is the number of mutations we see at that gene\n",
    "##rept is our Covariate that we named rept\n",
    "##p is the p-value\n",
    "##q is the q-value"
   ]
  },
  {
   "cell_type": "code",
   "execution_count": null,
   "metadata": {
    "collapsed": false,
    "scrolled": false
   },
   "outputs": [],
   "source": [
    "## Now that we have all of this data we will want a way to visualize it.\n",
    "## We can both visualize and assess the merit of our analysis by using a qq_plot\n",
    "## fish.class comes with a built in plotting function built using ploty\n",
    "## Note that displaying html widget objects in jupyter requires installing \"pandoc\"\n",
    "## Can get from : \"sudo apt-get install pandoc\"\n",
    "\n",
    "x = score$qq_plot()\n",
    "\n",
    "\n",
    "x\n"
   ]
  },
  {
   "cell_type": "code",
   "execution_count": null,
   "metadata": {
    "collapsed": false,
    "scrolled": false
   },
   "outputs": [],
   "source": [
    "## Here is a nicer version that lets you annotate the points w/metadata\n",
    "## First lets get all of out Metadata out from the score object\n",
    "res = score$getAll()\n",
    "\n",
    "## Lets add hover annotations\n",
    "## gene_name -> gene names from targets\n",
    "## q -> q-value from score\n",
    "## count -> count from annotate\n",
    "## summary -> gene summary from targets obtained from genecards \n",
    "## p-value is added in automatically so no need to add\n",
    "x = score$qq_plot(annotations = list(Hypothesis_ID = res$gene_name,Count = res$count, q = res$q,Summary = res$summary))\n",
    "\n",
    "x"
   ]
  },
  {
   "cell_type": "code",
   "execution_count": null,
   "metadata": {
    "collapsed": false,
    "scrolled": true
   },
   "outputs": [],
   "source": [
    "## you can also plot so that there are no hover annotations other than p-value with:\n",
    "\n",
    "x = score$qq_plot(annotations = list())\n",
    "\n",
    "x"
   ]
  },
  {
   "cell_type": "code",
   "execution_count": null,
   "metadata": {
    "collapsed": false
   },
   "outputs": [],
   "source": [
    "## Now lets look at the aggregation function and how we can use it to study pathways.\n",
    "## First we will need to get some pathways metadata.\n",
    "pathways = readRDS(\"indexed_pathways.rds\")\n",
    "\n",
    "##lets take a look at a few pathways:\n",
    "pathways[1:3]\n",
    "\n",
    "#And the number of pathways\n",
    "length(pathways)"
   ]
  },
  {
   "cell_type": "code",
   "execution_count": null,
   "metadata": {
    "collapsed": false
   },
   "outputs": [],
   "source": [
    "##Lets take a look at a series of pathways, for example lets look at the KEGG pathways:\n",
    "\n",
    "Chosen_Pathways_Index = which(grepl(\"KEGG\",names(pathways)))\n",
    "Chosen_Pathways = pathways[Chosen_Pathways_Index]\n",
    "\n",
    "## Lets look at our chosen pathways:\n",
    "Chosen_Pathways[1:10]\n",
    "length(Chosen_Pathways)"
   ]
  },
  {
   "cell_type": "code",
   "execution_count": null,
   "metadata": {
    "collapsed": false
   },
   "outputs": [],
   "source": [
    "## Now lets aggregate our results by pathways:\n",
    "anno$aggregateTargets(by = Chosen_Pathways)\n"
   ]
  },
  {
   "cell_type": "code",
   "execution_count": null,
   "metadata": {
    "collapsed": false
   },
   "outputs": [],
   "source": [
    "##Lets look at our aggregates:\n",
    "anno"
   ]
  },
  {
   "cell_type": "code",
   "execution_count": null,
   "metadata": {
    "collapsed": false
   },
   "outputs": [],
   "source": [
    "##Scoring:\n",
    "score = anno$scoreTargets()"
   ]
  },
  {
   "cell_type": "code",
   "execution_count": null,
   "metadata": {
    "collapsed": false
   },
   "outputs": [],
   "source": [
    "##Plotting\n",
    "x = score$qq_plot()\n",
    "\n",
    "\n",
    "x"
   ]
  },
  {
   "cell_type": "code",
   "execution_count": null,
   "metadata": {
    "collapsed": false,
    "scrolled": false
   },
   "outputs": [],
   "source": [
    "## change annotations\n",
    "\n",
    "new_meta = as.data.frame(names(Chosen_Pathways))\n",
    "\n",
    "score$replaceMeta(new_meta)\n",
    "\n",
    "score$getMeta()\n",
    "\n",
    "x = score$qq_plot()\n",
    "\n",
    "x"
   ]
  },
  {
   "cell_type": "code",
   "execution_count": null,
   "metadata": {
    "collapsed": false
   },
   "outputs": [],
   "source": [
    "targets[Chosen_Pathways$KEGG_LYSINE_DEGRADATION]$gene_name\n"
   ]
  }
 ],
 "metadata": {
  "kernelspec": {
   "display_name": "R",
   "language": "R",
   "name": "ir"
  },
  "language_info": {
   "codemirror_mode": "r",
   "file_extension": ".r",
   "mimetype": "text/x-r-source",
   "name": "R",
   "pygments_lexer": "r",
   "version": "3.2.3"
  }
 },
 "nbformat": 4,
 "nbformat_minor": 2
}
